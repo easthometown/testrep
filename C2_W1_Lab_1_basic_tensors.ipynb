{
  "cells": [
    {
      "cell_type": "markdown",
      "metadata": {
        "id": "view-in-github",
        "colab_type": "text"
      },
      "source": [
        "<a href=\"https://colab.research.google.com/github/easthometown/testrep/blob/main/C2_W1_Lab_1_basic_tensors.ipynb\" target=\"_parent\"><img src=\"https://colab.research.google.com/assets/colab-badge.svg\" alt=\"Open In Colab\"/></a>"
      ]
    },
    {
      "cell_type": "markdown",
      "metadata": {
        "id": "C1911CLXWb1r"
      },
      "source": [
        "# Basic Tensors"
      ]
    },
    {
      "cell_type": "markdown",
      "metadata": {
        "id": "bl-e8jaoWb13"
      },
      "source": [
        "In this ungraded lab, you will try some of the basic operations you can perform on tensors."
      ]
    },
    {
      "cell_type": "markdown",
      "metadata": {
        "id": "GUcKc1UWWb17"
      },
      "source": [
        "## Imports"
      ]
    },
    {
      "cell_type": "code",
      "execution_count": null,
      "metadata": {
        "id": "jqev488WJ9-R"
      },
      "outputs": [],
      "source": [
        "try:\n",
        "    # %tensorflow_version only exists in Colab.\n",
        "    %tensorflow_version 2.x\n",
        "except Exception:\n",
        "    pass\n",
        "\n",
        "import tensorflow as tf\n",
        "import numpy as np"
      ]
    },
    {
      "cell_type": "markdown",
      "metadata": {
        "id": "sIIXMZboUw-P"
      },
      "source": [
        "## Exercise on basic Tensor operations\n",
        "\n",
        "Lets create a single dimension numpy array on which you can perform some operation. You'll make an array of size 25, holding values from 0 to 24."
      ]
    },
    {
      "cell_type": "code",
      "execution_count": null,
      "metadata": {
        "id": "GkBZyS8hKNXX",
        "outputId": "c714d2d9-289e-474d-c36a-41edbed1169a"
      },
      "outputs": [
        {
          "data": {
            "text/plain": [
              "array([ 0,  1,  2,  3,  4,  5,  6,  7,  8,  9, 10, 11, 12, 13, 14, 15, 16,\n",
              "       17, 18, 19, 20, 21, 22, 23, 24])"
            ]
          },
          "execution_count": 2,
          "metadata": {},
          "output_type": "execute_result"
        }
      ],
      "source": [
        "# Create a 1D uint8 NumPy array comprising of first 25 natural numbers\n",
        "x = np.arange(0, 25)\n",
        "x"
      ]
    },
    {
      "cell_type": "markdown",
      "metadata": {
        "id": "pqmm852WWb2M"
      },
      "source": [
        "Now that you have your 1-D array, next you'll change that array into a `tensor`. After running the code block below, take a moment to inspect the information of your tensor."
      ]
    },
    {
      "cell_type": "code",
      "execution_count": null,
      "metadata": {
        "id": "MYdVyiSoLPgO",
        "outputId": "85f583d9-be53-480f-f322-d01b4cd43cc5"
      },
      "outputs": [
        {
          "data": {
            "text/plain": [
              "<tf.Tensor: shape=(25,), dtype=int64, numpy=\n",
              "array([ 0,  1,  2,  3,  4,  5,  6,  7,  8,  9, 10, 11, 12, 13, 14, 15, 16,\n",
              "       17, 18, 19, 20, 21, 22, 23, 24])>"
            ]
          },
          "execution_count": 3,
          "metadata": {},
          "output_type": "execute_result"
        }
      ],
      "source": [
        "# Convert NumPy array to Tensor using `tf.constant`\n",
        "x = tf.constant(x)\n",
        "x"
      ]
    },
    {
      "cell_type": "markdown",
      "metadata": {
        "id": "gaLDnJl9Wb2V"
      },
      "source": [
        "As the first operation to be performed, you'll square (element-wise) all the values in the tensor `x`"
      ]
    },
    {
      "cell_type": "code",
      "execution_count": null,
      "metadata": {
        "id": "W6BTwNJCLjV8",
        "outputId": "72215587-d540-40de-e270-66a13f9336d7"
      },
      "outputs": [
        {
          "data": {
            "text/plain": [
              "<tf.Tensor: shape=(25,), dtype=int64, numpy=\n",
              "array([  0,   1,   4,   9,  16,  25,  36,  49,  64,  81, 100, 121, 144,\n",
              "       169, 196, 225, 256, 289, 324, 361, 400, 441, 484, 529, 576])>"
            ]
          },
          "execution_count": 4,
          "metadata": {},
          "output_type": "execute_result"
        }
      ],
      "source": [
        "# Square the input tensor x\n",
        "x = tf.square(x)\n",
        "x"
      ]
    },
    {
      "cell_type": "markdown",
      "metadata": {
        "id": "2giHVi2TWb2d"
      },
      "source": [
        "One feature of tensors is that they can be reshaped. When reshpaing, make sure you consider dimensions that will include all of the values of the tensor."
      ]
    },
    {
      "cell_type": "code",
      "execution_count": null,
      "metadata": {
        "id": "7nzBSX8-L0Xt",
        "outputId": "16f8df87-4f29-47cf-9974-965e1216fd3c"
      },
      "outputs": [
        {
          "data": {
            "text/plain": [
              "<tf.Tensor: shape=(5, 5), dtype=int64, numpy=\n",
              "array([[  0,   1,   4,   9,  16],\n",
              "       [ 25,  36,  49,  64,  81],\n",
              "       [100, 121, 144, 169, 196],\n",
              "       [225, 256, 289, 324, 361],\n",
              "       [400, 441, 484, 529, 576]])>"
            ]
          },
          "execution_count": 5,
          "metadata": {},
          "output_type": "execute_result"
        }
      ],
      "source": [
        "# Reshape tensor x into a 5 x 5 matrix. \n",
        "x = tf.reshape(x, (5, 5))\n",
        "x"
      ]
    },
    {
      "cell_type": "markdown",
      "metadata": {
        "id": "fZvWPbxUWb2i"
      },
      "source": [
        "Notice that you'll get an error message if you choose a shape that cannot be exactly filled with the values of the given tensor.  \n",
        "* Run the cell below and look at the error message\n",
        "* Try to change the tuple that is passed to `shape` to avoid an error."
      ]
    },
    {
      "cell_type": "code",
      "execution_count": null,
      "metadata": {
        "id": "Y-xVO56HWb2j",
        "outputId": "e03a6344-2424-4dc2-999f-228f7c76a053"
      },
      "outputs": [
        {
          "data": {
            "text/plain": [
              "<tf.Tensor: shape=(2, 2), dtype=int32, numpy=\n",
              "array([[1, 2],\n",
              "       [3, 4]], dtype=int32)>"
            ]
          },
          "execution_count": 7,
          "metadata": {},
          "output_type": "execute_result"
        }
      ],
      "source": [
        "# Try this and look at the error\n",
        "# Try to change the input to `shape` to avoid an error\n",
        "tmp = tf.constant([1,2,3,4])\n",
        "tf.reshape(tmp, shape=(2,2))"
      ]
    },
    {
      "cell_type": "markdown",
      "metadata": {
        "id": "Icd18RmQWb2l"
      },
      "source": [
        "Like reshaping, you can also change the data type of the values within the tensor. Run the cell below to change the data type from `int` to `float`"
      ]
    },
    {
      "cell_type": "code",
      "execution_count": null,
      "metadata": {
        "id": "VoT-jiAIL8x5",
        "outputId": "c24221ae-46c2-4998-da60-be36361fe95d"
      },
      "outputs": [
        {
          "data": {
            "text/plain": [
              "<tf.Tensor: shape=(5, 5), dtype=float32, numpy=\n",
              "array([[  0.,   1.,   4.,   9.,  16.],\n",
              "       [ 25.,  36.,  49.,  64.,  81.],\n",
              "       [100., 121., 144., 169., 196.],\n",
              "       [225., 256., 289., 324., 361.],\n",
              "       [400., 441., 484., 529., 576.]], dtype=float32)>"
            ]
          },
          "execution_count": 8,
          "metadata": {},
          "output_type": "execute_result"
        }
      ],
      "source": [
        "# Cast tensor x into float32. Notice the change in the dtype.\n",
        "x = tf.cast(x, tf.float32)\n",
        "x"
      ]
    },
    {
      "cell_type": "markdown",
      "metadata": {
        "id": "wC_3-Jl8Wb2o"
      },
      "source": [
        "Next, you'll create a single value float tensor by the help of which you'll see `broadcasting` in action"
      ]
    },
    {
      "cell_type": "code",
      "execution_count": null,
      "metadata": {
        "id": "gM3p3r07Wb2p",
        "outputId": "c0c7d323-53c0-4a7b-dbd0-3983cdeda728"
      },
      "outputs": [
        {
          "data": {
            "text/plain": [
              "<tf.Tensor: shape=(), dtype=float32, numpy=2.0>"
            ]
          },
          "execution_count": 9,
          "metadata": {},
          "output_type": "execute_result"
        }
      ],
      "source": [
        "# Let's define a constant and see how broadcasting works in the following cell.\n",
        "y = tf.constant(2, dtype=tf.float32)\n",
        "y"
      ]
    },
    {
      "cell_type": "markdown",
      "metadata": {
        "id": "NdV7oH71Wb2r"
      },
      "source": [
        "Multiply the tensors `x` and `y` together, and notice how multiplication was done and its result."
      ]
    },
    {
      "cell_type": "code",
      "execution_count": null,
      "metadata": {
        "id": "ivepGtD5MKP5",
        "outputId": "a9a5d6db-ba0d-4f49-d238-7a59d6c2b851"
      },
      "outputs": [
        {
          "data": {
            "text/plain": [
              "<tf.Tensor: shape=(5, 5), dtype=float32, numpy=\n",
              "array([[   0.,    2.,    8.,   18.,   32.],\n",
              "       [  50.,   72.,   98.,  128.,  162.],\n",
              "       [ 200.,  242.,  288.,  338.,  392.],\n",
              "       [ 450.,  512.,  578.,  648.,  722.],\n",
              "       [ 800.,  882.,  968., 1058., 1152.]], dtype=float32)>"
            ]
          },
          "execution_count": 10,
          "metadata": {},
          "output_type": "execute_result"
        }
      ],
      "source": [
        "# Multiply tensor `x` and `y`. `y` is multiplied to each element of x.\n",
        "result = tf.multiply(x, y)\n",
        "result"
      ]
    },
    {
      "cell_type": "markdown",
      "metadata": {
        "id": "AQFTHL06Wb2u"
      },
      "source": [
        "Re-Initialize `y` to a tensor having more values."
      ]
    },
    {
      "cell_type": "code",
      "execution_count": null,
      "metadata": {
        "id": "8wzZ5NcMMPzD",
        "outputId": "9715f642-cf40-49fa-cca8-d90b1ccf5675"
      },
      "outputs": [
        {
          "data": {
            "text/plain": [
              "<tf.Tensor: shape=(5,), dtype=float32, numpy=array([1., 2., 3., 4., 5.], dtype=float32)>"
            ]
          },
          "execution_count": 11,
          "metadata": {},
          "output_type": "execute_result"
        }
      ],
      "source": [
        "# Now let's define an array that matches the number of row elements in the `x` array.\n",
        "y = tf.constant([1, 2, 3, 4, 5], dtype=tf.float32)\n",
        "y"
      ]
    },
    {
      "cell_type": "code",
      "execution_count": null,
      "metadata": {
        "id": "pnd3MtAgWb2y",
        "outputId": "bd4e331a-be59-436c-9dd7-47e0e1290bd1"
      },
      "outputs": [
        {
          "data": {
            "text/plain": [
              "<tf.Tensor: shape=(5, 5), dtype=float32, numpy=\n",
              "array([[  0.,   1.,   4.,   9.,  16.],\n",
              "       [ 25.,  36.,  49.,  64.,  81.],\n",
              "       [100., 121., 144., 169., 196.],\n",
              "       [225., 256., 289., 324., 361.],\n",
              "       [400., 441., 484., 529., 576.]], dtype=float32)>"
            ]
          },
          "execution_count": 12,
          "metadata": {},
          "output_type": "execute_result"
        }
      ],
      "source": [
        "# Let's see first the contents of `x` again.\n",
        "x"
      ]
    },
    {
      "cell_type": "markdown",
      "metadata": {
        "id": "zn_RpZJGWb20"
      },
      "source": [
        "Add the tensors `x` and `y` together, and notice how addition was done and its result."
      ]
    },
    {
      "cell_type": "code",
      "execution_count": null,
      "metadata": {
        "id": "BVlntdYnMboh",
        "outputId": "e4109927-bb4a-4a11-d1ed-142dc0a55d05"
      },
      "outputs": [
        {
          "data": {
            "text/plain": [
              "<tf.Tensor: shape=(5, 5), dtype=float32, numpy=\n",
              "array([[  1.,   3.,   7.,  13.,  21.],\n",
              "       [ 26.,  38.,  52.,  68.,  86.],\n",
              "       [101., 123., 147., 173., 201.],\n",
              "       [226., 258., 292., 328., 366.],\n",
              "       [401., 443., 487., 533., 581.]], dtype=float32)>"
            ]
          },
          "execution_count": 13,
          "metadata": {},
          "output_type": "execute_result"
        }
      ],
      "source": [
        "# Add tensor `x` and `y`. `y` is added element wise to each row of `x`.\n",
        "result = x + y\n",
        "result"
      ]
    },
    {
      "cell_type": "markdown",
      "metadata": {
        "id": "OarzRKtdWb23"
      },
      "source": [
        "### The shape parameter for tf.constant\n",
        "\n",
        "When using `tf.constant()`, you can pass in a 1D array (a vector) and set the `shape` parameter to turn this vector into a multi-dimensional array."
      ]
    },
    {
      "cell_type": "code",
      "execution_count": null,
      "metadata": {
        "id": "GELB1R9VWb24",
        "outputId": "774df40b-00ee-49c9-9280-aee4bd2bd3c9"
      },
      "outputs": [
        {
          "data": {
            "text/plain": [
              "<tf.Tensor: shape=(2, 2), dtype=int32, numpy=\n",
              "array([[1, 2],\n",
              "       [3, 4]], dtype=int32)>"
            ]
          },
          "execution_count": 14,
          "metadata": {},
          "output_type": "execute_result"
        }
      ],
      "source": [
        "tf.constant([1,2,3,4], shape=(2,2))"
      ]
    },
    {
      "cell_type": "markdown",
      "metadata": {
        "id": "Ny1U3Z6gWb25"
      },
      "source": [
        "### The shape parameter for tf.Variable\n",
        "\n",
        "Note, however, that for `tf.Variable()`, the shape of the tensor is derived from the shape given by the input array.  Setting `shape` to something other than `None` will not reshape a 1D array into a multi-dimensional array, and will give a `ValueError`."
      ]
    },
    {
      "cell_type": "code",
      "execution_count": null,
      "metadata": {
        "id": "ZWRr5LsvWb27",
        "outputId": "fdc457af-a722-4c6f-c814-b9e09e01f110"
      },
      "outputs": [
        {
          "name": "stdout",
          "output_type": "stream",
          "text": [
            "The initial value's shape ((4,)) is not compatible with the explicitly supplied `shape` argument ((2, 2)).\n"
          ]
        }
      ],
      "source": [
        "try:\n",
        "    # This will produce a ValueError\n",
        "    tf.Variable([1,2,3,4], shape=(2,2))\n",
        "except ValueError as v:\n",
        "    # See what the ValueError says\n",
        "    print(v)"
      ]
    },
    {
      "cell_type": "code",
      "execution_count": null,
      "metadata": {
        "id": "YENN8cXoWb29"
      },
      "outputs": [],
      "source": [
        ""
      ]
    }
  ],
  "metadata": {
    "colab": {
      "name": "C2_W1_Lab_1_basic-tensors.ipynb",
      "provenance": [],
      "include_colab_link": true
    },
    "kernelspec": {
      "display_name": "Python 3",
      "language": "python",
      "name": "python3"
    },
    "language_info": {
      "codemirror_mode": {
        "name": "ipython",
        "version": 3
      },
      "file_extension": ".py",
      "mimetype": "text/x-python",
      "name": "python",
      "nbconvert_exporter": "python",
      "pygments_lexer": "ipython3",
      "version": "3.7.6"
    }
  },
  "nbformat": 4,
  "nbformat_minor": 0
}