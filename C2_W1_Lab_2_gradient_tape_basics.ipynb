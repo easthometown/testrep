{
  "cells": [
    {
      "cell_type": "markdown",
      "metadata": {
        "id": "view-in-github",
        "colab_type": "text"
      },
      "source": [
        "<a href=\"https://colab.research.google.com/github/easthometown/testrep/blob/main/C2_W1_Lab_2_gradient_tape_basics.ipynb\" target=\"_parent\"><img src=\"https://colab.research.google.com/assets/colab-badge.svg\" alt=\"Open In Colab\"/></a>"
      ]
    },
    {
      "cell_type": "markdown",
      "metadata": {
        "id": "4U4jVs7Uj8Ia"
      },
      "source": [
        "# Gradient Tape Basics\n",
        "\n",
        "In this ungraded lab, you'll get familiar with Tensorflow's built in API called Gradient Tape which helps in performing automatic differentiation."
      ]
    },
    {
      "cell_type": "markdown",
      "metadata": {
        "id": "THkN6_2Aj8Ip"
      },
      "source": [
        "## Imports"
      ]
    },
    {
      "cell_type": "code",
      "execution_count": null,
      "metadata": {
        "id": "uQe_MWjNPQkR"
      },
      "outputs": [],
      "source": [
        "import tensorflow as tf"
      ]
    },
    {
      "cell_type": "markdown",
      "metadata": {
        "id": "DybjiK-sj8J2"
      },
      "source": [
        "## Exercise on basics of Gradient Tape\n",
        "\n",
        "Let's explore how you can use [tf.GradientTape()](https://www.tensorflow.org/api_docs/python/tf/GradientTape) to do automatic differentiation."
      ]
    },
    {
      "cell_type": "code",
      "execution_count": null,
      "metadata": {
        "colab": {
          "base_uri": "https://localhost:8080/",
          "height": 69
        },
        "id": "57Vnn9iIPNh9",
        "outputId": "543fce75-1adc-447c-b70b-872e8f8c9841"
      },
      "outputs": [
        {
          "name": "stdout",
          "output_type": "stream",
          "text": [
            "tf.Tensor(\n",
            "[[8. 8.]\n",
            " [8. 8.]], shape=(2, 2), dtype=float32)\n"
          ]
        }
      ],
      "source": [
        "# Define a 2x2 array of 1's\n",
        "x = tf.ones((2,2))\n",
        "\n",
        "with tf.GradientTape() as t:\n",
        "    # Record the actions performed on tensor x with `watch`\n",
        "    t.watch(x) \n",
        "\n",
        "    # Define y as the sum of the elements in x\n",
        "    y =  tf.reduce_sum(x)\n",
        "\n",
        "    # Let z be the square of y\n",
        "    z = tf.square(y) \n",
        "\n",
        "# Get the derivative of z wrt the original input tensor x\n",
        "dz_dx = t.gradient(z, x)\n",
        "\n",
        "# Print our result\n",
        "print(dz_dx)"
      ]
    },
    {
      "cell_type": "markdown",
      "metadata": {
        "id": "wSaQ4Dc-j8KA"
      },
      "source": [
        "### Gradient tape expires after one use, by default\n",
        "\n",
        "If you want to compute multiple gradients, note that by default, GradientTape is not persistent (`persistent=False`).  This means that the GradientTape will expire after you use it to calculate a gradient.\n",
        "\n",
        "To see this, set up gradient tape as usual and calculate a gradient, so that the gradient tape will be 'expired'."
      ]
    },
    {
      "cell_type": "code",
      "execution_count": null,
      "metadata": {
        "id": "FUd6wUK4j8KE",
        "outputId": "7311e66f-b0c0-4750-a2ec-532f7b7703be"
      },
      "outputs": [
        {
          "name": "stdout",
          "output_type": "stream",
          "text": [
            "tf.Tensor(108.0, shape=(), dtype=float32)\n"
          ]
        }
      ],
      "source": [
        "x = tf.constant(3.0)\n",
        "\n",
        "# Notice that persistent is False by default\n",
        "with tf.GradientTape() as t:\n",
        "    t.watch(x)\n",
        "    \n",
        "    # y = x^2\n",
        "    y = x * x\n",
        "    \n",
        "    # z = y^2\n",
        "    z = y * y\n",
        "\n",
        "# Compute dz/dx. 4 * x^3 at x = 3 --> 108.0\n",
        "dz_dx = t.gradient(z, x)\n",
        "print(dz_dx)"
      ]
    },
    {
      "cell_type": "markdown",
      "metadata": {
        "id": "lKhrmRrlj8KL"
      },
      "source": [
        "#### Gradient tape has expired\n",
        "\n",
        "See what happens if you try to calculate another gradient after you've already used gradient tape once."
      ]
    },
    {
      "cell_type": "code",
      "execution_count": null,
      "metadata": {
        "id": "TsdImrHPj8KP",
        "outputId": "7047881e-afcc-43d7-91eb-5eaff39bed84"
      },
      "outputs": [
        {
          "name": "stdout",
          "output_type": "stream",
          "text": [
            "The error message you get is:\n",
            "GradientTape.gradient can only be called once on non-persistent tapes.\n"
          ]
        }
      ],
      "source": [
        "# If you try to compute dy/dx after the gradient tape has expired:\n",
        "try:\n",
        "    dy_dx = t.gradient(y, x)  # 6.0\n",
        "    print(dy_dx)\n",
        "except RuntimeError as e:\n",
        "    print(\"The error message you get is:\")\n",
        "    print(e)"
      ]
    },
    {
      "cell_type": "markdown",
      "metadata": {
        "id": "Fi1sG13Tj8Kf"
      },
      "source": [
        "### Make the gradient tape persistent\n",
        "To make sure that the gradient tape can be used multiple times, set `persistent=True` "
      ]
    },
    {
      "cell_type": "code",
      "execution_count": null,
      "metadata": {
        "colab": {
          "base_uri": "https://localhost:8080/",
          "height": 52
        },
        "id": "P12ExatAPqn6",
        "outputId": "65d8c2ca-b49d-4b91-d2d5-97153daf5d19"
      },
      "outputs": [
        {
          "name": "stdout",
          "output_type": "stream",
          "text": [
            "tf.Tensor(108.0, shape=(), dtype=float32)\n"
          ]
        }
      ],
      "source": [
        "x = tf.constant(3.0)\n",
        "\n",
        "# Set persistent=True so that you can reuse the tape\n",
        "with tf.GradientTape(persistent=True) as t:\n",
        "    t.watch(x)\n",
        "    \n",
        "    # y = x^2\n",
        "    y = x * x\n",
        "    \n",
        "    # z = y^2\n",
        "    z = y * y\n",
        "\n",
        "# Compute dz/dx. 4 * x^3 at x = 3 --> 108.0\n",
        "dz_dx = t.gradient(z, x)\n",
        "print(dz_dx)"
      ]
    },
    {
      "cell_type": "markdown",
      "metadata": {
        "id": "_Qh5aptvj8Ku"
      },
      "source": [
        "#### Now that it's persistent, you can still reuse this tape!\n",
        "\n",
        "Try calculating a second gradient on this persistent tape."
      ]
    },
    {
      "cell_type": "code",
      "execution_count": null,
      "metadata": {
        "id": "JiSqL2xhj8Kx",
        "outputId": "13f93e64-300c-4591-d197-9f5142bb02d8"
      },
      "outputs": [
        {
          "name": "stdout",
          "output_type": "stream",
          "text": [
            "tf.Tensor(6.0, shape=(), dtype=float32)\n"
          ]
        }
      ],
      "source": [
        "# You can still compute dy/dx because of the persistent flag.\n",
        "dy_dx = t.gradient(y, x)  # 6.0\n",
        "print(dy_dx)"
      ]
    },
    {
      "cell_type": "markdown",
      "metadata": {
        "id": "rwBUakUgj8Ky"
      },
      "source": [
        "Great! It still works!  Delete the tape variable `t` once you no longer need it."
      ]
    },
    {
      "cell_type": "code",
      "execution_count": null,
      "metadata": {
        "id": "pKYwGyKlj8K0"
      },
      "outputs": [],
      "source": [
        "# Drop the reference to the tape\n",
        "del t  "
      ]
    },
    {
      "cell_type": "markdown",
      "metadata": {
        "id": "gS2p-4Ttj8K1"
      },
      "source": [
        "### Nested Gradient tapes\n",
        "Now let's try computing a higher order derivative by nesting the `GradientTapes:`\n",
        "\n",
        "#### Acceptable indentation of the first gradient calculation\n",
        "Keep in mind that you'll want to make sure that the first gradient calculation of `dy_dx` should occur at least inside the outer `with` block."
      ]
    },
    {
      "cell_type": "code",
      "execution_count": null,
      "metadata": {
        "colab": {
          "base_uri": "https://localhost:8080/",
          "height": 52
        },
        "id": "UxNLeFLlP4qU",
        "outputId": "5f96770a-f0a3-47e5-dd8d-3e0b3074deeb"
      },
      "outputs": [
        {
          "name": "stdout",
          "output_type": "stream",
          "text": [
            "tf.Tensor(3.0, shape=(), dtype=float32)\n",
            "tf.Tensor(6.0, shape=(), dtype=float32)\n"
          ]
        }
      ],
      "source": [
        "x = tf.Variable(1.0)\n",
        "\n",
        "with tf.GradientTape() as tape_2:\n",
        "    with tf.GradientTape() as tape_1:\n",
        "        y = x * x * x\n",
        "    \n",
        "    # The first gradient calculation should occur at least\n",
        "    # within the outer with block\n",
        "    dy_dx = tape_1.gradient(y, x)\n",
        "d2y_dx2 = tape_2.gradient(dy_dx, x)\n",
        "\n",
        "print(dy_dx)\n",
        "print(d2y_dx2)"
      ]
    },
    {
      "cell_type": "markdown",
      "metadata": {
        "id": "mmF09g4Oj8K4"
      },
      "source": [
        "The first gradient calculation can also be inside the inner with block."
      ]
    },
    {
      "cell_type": "code",
      "execution_count": null,
      "metadata": {
        "id": "G1OT8XZhj8K4",
        "outputId": "886ce934-1dc0-4228-e60c-6b2ad7741935"
      },
      "outputs": [
        {
          "name": "stdout",
          "output_type": "stream",
          "text": [
            "tf.Tensor(3.0, shape=(), dtype=float32)\n",
            "tf.Tensor(6.0, shape=(), dtype=float32)\n"
          ]
        }
      ],
      "source": [
        "x = tf.Variable(1.0)\n",
        "\n",
        "with tf.GradientTape() as tape_2:\n",
        "    with tf.GradientTape() as tape_1:\n",
        "        y = x * x * x\n",
        "    \n",
        "        # The first gradient calculation can also be within the inner with block\n",
        "        dy_dx = tape_1.gradient(y, x)\n",
        "d2y_dx2 = tape_2.gradient(dy_dx, x)\n",
        "\n",
        "print(dy_dx)\n",
        "print(d2y_dx2)"
      ]
    },
    {
      "cell_type": "markdown",
      "metadata": {
        "id": "aBft6uwLj8K7"
      },
      "source": [
        "#### Where not to indent the first gradient calculation\n",
        "If the first gradient calculation is OUTSIDE of the outer `with` block, it won't persist for the second gradient calculation."
      ]
    },
    {
      "cell_type": "code",
      "execution_count": null,
      "metadata": {
        "id": "oFNKHblkj8K9",
        "outputId": "b2bf1b4d-7e7f-4e52-a8ff-5f9b5f41785f"
      },
      "outputs": [
        {
          "name": "stdout",
          "output_type": "stream",
          "text": [
            "tf.Tensor(3.0, shape=(), dtype=float32)\n",
            "None\n"
          ]
        }
      ],
      "source": [
        "x = tf.Variable(1.0)\n",
        "\n",
        "with tf.GradientTape() as tape_2:\n",
        "    with tf.GradientTape() as tape_1:\n",
        "        y = x * x * x\n",
        "\n",
        "# The first gradient call is outside the outer with block\n",
        "# so the tape will expire after this\n",
        "dy_dx = tape_1.gradient(y, x)\n",
        "\n",
        "# The tape is now expired and the gradient output will be `None`\n",
        "d2y_dx2 = tape_2.gradient(dy_dx, x)\n",
        "\n",
        "print(dy_dx)\n",
        "print(d2y_dx2)"
      ]
    },
    {
      "cell_type": "markdown",
      "metadata": {
        "id": "3TgpyBGrj8LA"
      },
      "source": [
        "Notice how the `d2y_dx2` calculation is now `None`.  The tape has expired.  Also note that this still won't work even if you set persistent=True for both gradient tapes."
      ]
    },
    {
      "cell_type": "code",
      "execution_count": null,
      "metadata": {
        "id": "6MSy9Vnaj8LC",
        "outputId": "3e76a330-182f-42d3-f92d-4267458b6969"
      },
      "outputs": [
        {
          "name": "stdout",
          "output_type": "stream",
          "text": [
            "tf.Tensor(3.0, shape=(), dtype=float32)\n",
            "None\n"
          ]
        }
      ],
      "source": [
        "x = tf.Variable(1.0)\n",
        "\n",
        "# Setting persistent=True still won't work\n",
        "with tf.GradientTape(persistent=True) as tape_2:\n",
        "    # Setting persistent=True still won't work\n",
        "    with tf.GradientTape(persistent=True) as tape_1:\n",
        "        y = x * x * x\n",
        "\n",
        "# The first gradient call is outside the outer with block\n",
        "# so the tape will expire after this\n",
        "dy_dx = tape_1.gradient(y, x)\n",
        "\n",
        "# the output will be `None`\n",
        "d2y_dx2 = tape_2.gradient(dy_dx, x)\n",
        "\n",
        "print(dy_dx)\n",
        "print(d2y_dx2)"
      ]
    },
    {
      "cell_type": "markdown",
      "metadata": {
        "id": "khCmPlXzj8LE"
      },
      "source": [
        "### Proper indentation for the second gradient calculation\n",
        "\n",
        "The second gradient calculation `d2y_dx2` can be indented as much as the first calculation of `dy_dx` but not more."
      ]
    },
    {
      "cell_type": "code",
      "execution_count": null,
      "metadata": {
        "id": "gslxTGX7j8LF",
        "outputId": "5fe84cef-a5c9-4fb3-edcd-5b4badb0fa1f"
      },
      "outputs": [
        {
          "name": "stdout",
          "output_type": "stream",
          "text": [
            "tf.Tensor(3.0, shape=(), dtype=float32)\n",
            "tf.Tensor(6.0, shape=(), dtype=float32)\n"
          ]
        }
      ],
      "source": [
        "x = tf.Variable(1.0)\n",
        "\n",
        "with tf.GradientTape() as tape_2:\n",
        "    with tf.GradientTape() as tape_1:\n",
        "        y = x * x * x\n",
        "\n",
        "        dy_dx = tape_1.gradient(y, x)\n",
        "        \n",
        "        # this is acceptable\n",
        "        d2y_dx2 = tape_2.gradient(dy_dx, x)\n",
        "\n",
        "print(dy_dx)\n",
        "print(d2y_dx2)"
      ]
    },
    {
      "cell_type": "markdown",
      "metadata": {
        "id": "NBZevKy1j8LG"
      },
      "source": [
        "This is also acceptable"
      ]
    },
    {
      "cell_type": "code",
      "execution_count": null,
      "metadata": {
        "id": "dgi5RVUCj8LH",
        "outputId": "5bedaadd-371f-40f6-c73f-930e88e2df44"
      },
      "outputs": [
        {
          "name": "stdout",
          "output_type": "stream",
          "text": [
            "tf.Tensor(3.0, shape=(), dtype=float32)\n",
            "tf.Tensor(6.0, shape=(), dtype=float32)\n"
          ]
        }
      ],
      "source": [
        "x = tf.Variable(1.0)\n",
        "\n",
        "with tf.GradientTape() as tape_2:\n",
        "    with tf.GradientTape() as tape_1:\n",
        "        y = x * x * x\n",
        "\n",
        "        dy_dx = tape_1.gradient(y, x)\n",
        "        \n",
        "    # this is also acceptable\n",
        "    d2y_dx2 = tape_2.gradient(dy_dx, x)\n",
        "\n",
        "print(dy_dx)\n",
        "print(d2y_dx2)"
      ]
    },
    {
      "cell_type": "markdown",
      "metadata": {
        "id": "FlQ-Fqb7j8LI"
      },
      "source": [
        "This is also acceptable"
      ]
    },
    {
      "cell_type": "code",
      "execution_count": null,
      "metadata": {
        "id": "S_PJEWBNj8LJ",
        "outputId": "76ed203b-c8d9-4a75-e452-4a086d85fff2"
      },
      "outputs": [
        {
          "name": "stdout",
          "output_type": "stream",
          "text": [
            "tf.Tensor(3.0, shape=(), dtype=float32)\n",
            "tf.Tensor(6.0, shape=(), dtype=float32)\n"
          ]
        }
      ],
      "source": [
        "x = tf.Variable(1.0)\n",
        "\n",
        "with tf.GradientTape() as tape_2:\n",
        "    with tf.GradientTape() as tape_1:\n",
        "        y = x * x * x\n",
        "\n",
        "        dy_dx = tape_1.gradient(y, x)\n",
        "        \n",
        "# this is also acceptable\n",
        "d2y_dx2 = tape_2.gradient(dy_dx, x)\n",
        "\n",
        "print(dy_dx)\n",
        "print(d2y_dx2)"
      ]
    },
    {
      "cell_type": "code",
      "execution_count": null,
      "metadata": {
        "id": "2rMR6kr5j8LK"
      },
      "outputs": [],
      "source": [
        ""
      ]
    }
  ],
  "metadata": {
    "colab": {
      "name": "C2_W1_Lab_2_gradient-tape-basics.ipynb",
      "provenance": [],
      "include_colab_link": true
    },
    "kernelspec": {
      "display_name": "Python 3",
      "language": "python",
      "name": "python3"
    },
    "language_info": {
      "codemirror_mode": {
        "name": "ipython",
        "version": 3
      },
      "file_extension": ".py",
      "mimetype": "text/x-python",
      "name": "python",
      "nbconvert_exporter": "python",
      "pygments_lexer": "ipython3",
      "version": "3.7.6"
    }
  },
  "nbformat": 4,
  "nbformat_minor": 0
}