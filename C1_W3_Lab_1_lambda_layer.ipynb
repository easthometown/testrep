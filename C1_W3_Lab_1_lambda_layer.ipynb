{
  "cells": [
    {
      "cell_type": "markdown",
      "metadata": {
        "id": "view-in-github",
        "colab_type": "text"
      },
      "source": [
        "<a href=\"https://colab.research.google.com/github/easthometown/testrep/blob/main/C1_W3_Lab_1_lambda_layer.ipynb\" target=\"_parent\"><img src=\"https://colab.research.google.com/assets/colab-badge.svg\" alt=\"Open In Colab\"/></a>"
      ]
    },
    {
      "cell_type": "markdown",
      "metadata": {
        "id": "8Td9nDo6_w1c"
      },
      "source": [
        "## Ungraded Lab: Lambda Layer\n",
        "\n",
        "This lab will show how you can define custom layers with the [Lambda](https://keras.io/api/layers/core_layers/lambda/) layer. You can either use [lambda functions](https://www.w3schools.com/python/python_lambda.asp) within the Lambda layer or define a custom function that the Lambda layer will call. Let's get started!"
      ]
    },
    {
      "cell_type": "markdown",
      "metadata": {
        "id": "racvNUyt_w1l"
      },
      "source": [
        "## Imports"
      ]
    },
    {
      "cell_type": "code",
      "execution_count": null,
      "metadata": {
        "id": "CmI9MQA6Z72_"
      },
      "outputs": [],
      "source": [
        "try:\n",
        "  # %tensorflow_version only exists in Colab.\n",
        "  %tensorflow_version 2.x\n",
        "except Exception:\n",
        "  pass\n",
        "\n",
        "import tensorflow as tf\n",
        "from tensorflow.keras import backend as K"
      ]
    },
    {
      "cell_type": "markdown",
      "metadata": {
        "id": "RGXnF_yn_w1w"
      },
      "source": [
        "## Prepare the Dataset"
      ]
    },
    {
      "cell_type": "code",
      "execution_count": null,
      "metadata": {
        "id": "14tl1CluExjJ",
        "outputId": "e687eb99-e22b-4338-974c-273837869701"
      },
      "outputs": [
        {
          "name": "stdout",
          "output_type": "stream",
          "text": [
            "Downloading data from https://storage.googleapis.com/tensorflow/tf-keras-datasets/mnist.npz\n",
            "11493376/11490434 [==============================] - 0s 0us/step\n"
          ]
        }
      ],
      "source": [
        "mnist = tf.keras.datasets.mnist\n",
        "\n",
        "(x_train, y_train),(x_test, y_test) = mnist.load_data()\n",
        "x_train, x_test = x_train / 255.0, x_test / 255.0"
      ]
    },
    {
      "cell_type": "markdown",
      "metadata": {
        "id": "EL2plnCF_w12"
      },
      "source": [
        "## Build the Model\n",
        "\n",
        "Here, we'll use a Lambda layer to define a custom layer in our network. We're using a lambda function to get the absolute value of the layer input."
      ]
    },
    {
      "cell_type": "code",
      "execution_count": null,
      "metadata": {
        "id": "ism4QjbJ_w14"
      },
      "outputs": [],
      "source": [
        "model = tf.keras.models.Sequential([\n",
        "  tf.keras.layers.Flatten(input_shape=(28, 28)),\n",
        "  tf.keras.layers.Dense(128),\n",
        "  tf.keras.layers.Lambda(lambda x: tf.abs(x)), \n",
        "  tf.keras.layers.Dense(10, activation='softmax')\n",
        "])"
      ]
    },
    {
      "cell_type": "code",
      "execution_count": null,
      "metadata": {
        "id": "kJtuz3CD_w17",
        "outputId": "06f0b0d2-2c55-47ff-8e58-03e76ffcb477"
      },
      "outputs": [
        {
          "name": "stdout",
          "output_type": "stream",
          "text": [
            "Train on 60000 samples\n",
            "Epoch 1/5\n",
            "60000/60000 [==============================] - 5s 80us/sample - loss: 0.2209 - accuracy: 0.9383\n",
            "Epoch 2/5\n",
            "60000/60000 [==============================] - 5s 75us/sample - loss: 0.0911 - accuracy: 0.9729\n",
            "Epoch 3/5\n",
            "60000/60000 [==============================] - 5s 76us/sample - loss: 0.0647 - accuracy: 0.9807\n",
            "Epoch 4/5\n",
            "60000/60000 [==============================] - 5s 75us/sample - loss: 0.0484 - accuracy: 0.9850\n",
            "Epoch 5/5\n",
            "60000/60000 [==============================] - 5s 77us/sample - loss: 0.0368 - accuracy: 0.9886\n",
            "10000/10000 [==============================] - 0s 36us/sample - loss: 0.0815 - accuracy: 0.9758\n"
          ]
        },
        {
          "data": {
            "text/plain": [
              "[0.08153556279863479, 0.9758]"
            ]
          },
          "execution_count": 4,
          "metadata": {},
          "output_type": "execute_result"
        }
      ],
      "source": [
        "model.compile(optimizer='adam',\n",
        "              loss='sparse_categorical_crossentropy',\n",
        "              metrics=['accuracy'])\n",
        "\n",
        "model.fit(x_train, y_train, epochs=5)\n",
        "model.evaluate(x_test, y_test)"
      ]
    },
    {
      "cell_type": "markdown",
      "metadata": {
        "id": "cPspwZLl_w2A"
      },
      "source": [
        "Another way to use the Lambda layer is to pass in a function defined outside the model. The code below shows how a custom ReLU function is used as a custom layer in the model."
      ]
    },
    {
      "cell_type": "code",
      "execution_count": null,
      "metadata": {
        "colab": {
          "base_uri": "https://localhost:8080/",
          "height": 221
        },
        "id": "jG53KYeq-3_X",
        "outputId": "5b4fd048-e604-4109-f4f2-8fcd859a54e9"
      },
      "outputs": [
        {
          "name": "stdout",
          "output_type": "stream",
          "text": [
            "Train on 60000 samples\n",
            "Epoch 1/5\n",
            "60000/60000 [==============================] - 5s 80us/sample - loss: 0.2575 - accuracy: 0.9259\n",
            "Epoch 2/5\n",
            "60000/60000 [==============================] - 5s 75us/sample - loss: 0.1134 - accuracy: 0.9663\n",
            "Epoch 3/5\n",
            "60000/60000 [==============================] - 5s 75us/sample - loss: 0.0758 - accuracy: 0.9769\n",
            "Epoch 4/5\n",
            "60000/60000 [==============================] - 5s 76us/sample - loss: 0.0562 - accuracy: 0.9825\n",
            "Epoch 5/5\n",
            "60000/60000 [==============================] - 5s 76us/sample - loss: 0.0443 - accuracy: 0.9859\n",
            "10000/10000 [==============================] - 0s 27us/sample - loss: 0.0767 - accuracy: 0.9772\n"
          ]
        },
        {
          "data": {
            "text/plain": [
              "[0.07669644876499661, 0.9772]"
            ]
          },
          "execution_count": 5,
          "metadata": {},
          "output_type": "execute_result"
        }
      ],
      "source": [
        "def my_relu(x):\n",
        "    return K.maximum(-0.1, x)\n",
        "\n",
        "model = tf.keras.models.Sequential([\n",
        "    tf.keras.layers.Flatten(input_shape=(28, 28)),\n",
        "    tf.keras.layers.Dense(128),\n",
        "    tf.keras.layers.Lambda(my_relu), \n",
        "    tf.keras.layers.Dense(10, activation='softmax')\n",
        "])\n",
        "\n",
        "model.compile(optimizer='adam',\n",
        "              loss='sparse_categorical_crossentropy',\n",
        "              metrics=['accuracy'])\n",
        "\n",
        "model.fit(x_train, y_train, epochs=5)\n",
        "model.evaluate(x_test, y_test)"
      ]
    },
    {
      "cell_type": "code",
      "execution_count": null,
      "metadata": {
        "id": "I7NmqIGk_w2J"
      },
      "outputs": [],
      "source": [
        ""
      ]
    }
  ],
  "metadata": {
    "colab": {
      "collapsed_sections": [],
      "name": "C1_W3_Lab_1_lambda-layer.ipynb",
      "provenance": [],
      "include_colab_link": true
    },
    "kernelspec": {
      "display_name": "Python 3",
      "language": "python",
      "name": "python3"
    },
    "language_info": {
      "codemirror_mode": {
        "name": "ipython",
        "version": 3
      },
      "file_extension": ".py",
      "mimetype": "text/x-python",
      "name": "python",
      "nbconvert_exporter": "python",
      "pygments_lexer": "ipython3",
      "version": "3.7.6"
    }
  },
  "nbformat": 4,
  "nbformat_minor": 0
}