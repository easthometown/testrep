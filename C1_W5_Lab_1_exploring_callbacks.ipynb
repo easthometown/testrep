{
  "cells": [
    {
      "cell_type": "markdown",
      "metadata": {
        "id": "view-in-github",
        "colab_type": "text"
      },
      "source": [
        "<a href=\"https://colab.research.google.com/github/easthometown/testrep/blob/main/C1_W5_Lab_1_exploring_callbacks.ipynb\" target=\"_parent\"><img src=\"https://colab.research.google.com/assets/colab-badge.svg\" alt=\"Open In Colab\"/></a>"
      ]
    },
    {
      "cell_type": "markdown",
      "metadata": {
        "id": "0c_TYhQOUe1j"
      },
      "source": [
        "# Ungraded Lab: Introduction to Keras callbacks\n",
        "\n",
        "In Keras, `Callback` is a Python class meant to be subclassed to provide specific functionality, with a set of methods called at various stages of training (including batch/epoch start and ends), testing, and predicting. Callbacks are useful to get a view on internal states and statistics of the model during training. The methods of the callbacks can  be called at different stages of training/evaluating/inference. Keras has available [callbacks](https://keras.io/api/callbacks/) and we'll show how you can use it in the following sections. Please click the **Open in Colab** badge above to complete this exercise in Colab. This will allow you to take advantage of the free GPU runtime (for faster training) and compatibility with all the packages needed in this notebook."
      ]
    },
    {
      "cell_type": "markdown",
      "metadata": {
        "id": "Uyl69EyRQx-f"
      },
      "source": [
        "## Model methods that take callbacks\n",
        "Users can supply a list of callbacks to the following `tf.keras.Model` methods:\n",
        "* [`fit()`](https://www.tensorflow.org/versions/r2.0/api_docs/python/tf/keras/Model#fit), [`fit_generator()`](https://www.tensorflow.org/versions/r2.0/api_docs/python/tf/keras/Model#fit_generator)\n",
        "Trains the model for a fixed number of epochs (iterations over a dataset, or data yielded batch-by-batch by a Python generator).\n",
        "* [`evaluate()`](https://www.tensorflow.org/versions/r2.0/api_docs/python/tf/keras/Model#evaluate), [`evaluate_generator()`](https://www.tensorflow.org/versions/r2.0/api_docs/python/tf/keras/Model#evaluate_generator)\n",
        "Evaluates the model for given data or data generator. Outputs the loss and metric values from the evaluation.\n",
        "* [`predict()`](https://www.tensorflow.org/versions/r2.0/api_docs/python/tf/keras/Model#predict), [`predict_generator()`](https://www.tensorflow.org/versions/r2.0/api_docs/python/tf/keras/Model#predict_generator)\n",
        "Generates output predictions for the input data or data generator."
      ]
    },
    {
      "cell_type": "markdown",
      "metadata": {
        "id": "PC_IOFa2O9iy"
      },
      "source": [
        "## Imports"
      ]
    },
    {
      "cell_type": "code",
      "execution_count": null,
      "metadata": {
        "id": "AlT1Kh3uA9lZ",
        "outputId": "b34274f3-9dde-4ad6-f93f-1d04e2b742fc"
      },
      "outputs": [
        {
          "name": "stdout",
          "output_type": "stream",
          "text": [
            "Version:  2.1.0\n"
          ]
        }
      ],
      "source": [
        "from __future__ import absolute_import, division, print_function, unicode_literals\n",
        "\n",
        "try:\n",
        "    # %tensorflow_version only exists in Colab.\n",
        "    %tensorflow_version 2.x\n",
        "except Exception:\n",
        "    pass\n",
        "\n",
        "import tensorflow as tf\n",
        "import tensorflow_datasets as tfds\n",
        "import matplotlib.pyplot as plt\n",
        "import io\n",
        "from PIL import Image\n",
        "\n",
        "from tensorflow.keras.callbacks import TensorBoard, EarlyStopping, LearningRateScheduler, ModelCheckpoint, CSVLogger, ReduceLROnPlateau\n",
        "%load_ext tensorboard\n",
        "\n",
        "import os\n",
        "import matplotlib.pylab as plt\n",
        "import numpy as np\n",
        "import math\n",
        "import datetime\n",
        "import pandas as pd\n",
        "\n",
        "print(\"Version: \", tf.__version__)\n",
        "tf.get_logger().setLevel('INFO')"
      ]
    },
    {
      "cell_type": "markdown",
      "metadata": {
        "id": "HnSljqtsXKfb"
      },
      "source": [
        "# Examples of Keras callback applications\n",
        "The following section will guide you through creating simple [Callback](https://keras.io/api/callbacks/) applications."
      ]
    },
    {
      "cell_type": "code",
      "execution_count": null,
      "metadata": {
        "id": "spskRuxvCYQE"
      },
      "outputs": [],
      "source": [
        "# Download and prepare the horses or humans dataset\n",
        "\n",
        "# horses_or_humans 3.0.0 has already been downloaded for you\n",
        "path = \"./tensorflow_datasets\"\n",
        "splits, info = tfds.load('horses_or_humans', data_dir=path, as_supervised=True, with_info=True, split=['train[:80%]', 'train[80%:]', 'test'])\n",
        "\n",
        "(train_examples, validation_examples, test_examples) = splits\n",
        "\n",
        "num_examples = info.splits['train'].num_examples\n",
        "num_classes = info.features['label'].num_classes"
      ]
    },
    {
      "cell_type": "code",
      "execution_count": null,
      "metadata": {
        "id": "veIsubKTCZsN"
      },
      "outputs": [],
      "source": [
        "SIZE = 150 #@param {type:\"slider\", min:64, max:300, step:1}\n",
        "IMAGE_SIZE = (SIZE, SIZE)"
      ]
    },
    {
      "cell_type": "code",
      "execution_count": null,
      "metadata": {
        "id": "faajLlErCb1S"
      },
      "outputs": [],
      "source": [
        "def format_image(image, label):\n",
        "  image = tf.image.resize(image, IMAGE_SIZE) / 255.0\n",
        "  return  image, label"
      ]
    },
    {
      "cell_type": "code",
      "execution_count": null,
      "metadata": {
        "id": "AVXPuU12Cdka"
      },
      "outputs": [],
      "source": [
        "BATCH_SIZE = 32 #@param {type:\"integer\"}"
      ]
    },
    {
      "cell_type": "code",
      "execution_count": null,
      "metadata": {
        "id": "0lHDkFVaCe48"
      },
      "outputs": [],
      "source": [
        "train_batches = train_examples.shuffle(num_examples // 4).map(format_image).batch(BATCH_SIZE).prefetch(1)\n",
        "validation_batches = validation_examples.map(format_image).batch(BATCH_SIZE).prefetch(1)\n",
        "test_batches = test_examples.map(format_image).batch(1)"
      ]
    },
    {
      "cell_type": "code",
      "execution_count": null,
      "metadata": {
        "id": "DxsCqEIkCgUt",
        "outputId": "513fc932-d947-4012-cf0f-361f3070a497"
      },
      "outputs": [
        {
          "data": {
            "text/plain": [
              "TensorShape([32, 150, 150, 3])"
            ]
          },
          "execution_count": 7,
          "metadata": {},
          "output_type": "execute_result"
        }
      ],
      "source": [
        "for image_batch, label_batch in train_batches.take(1):\n",
        "  pass\n",
        "\n",
        "image_batch.shape"
      ]
    },
    {
      "cell_type": "code",
      "execution_count": null,
      "metadata": {
        "id": "iDBpWvHXCh2A"
      },
      "outputs": [],
      "source": [
        "def build_model(dense_units, input_shape=IMAGE_SIZE + (3,)):\n",
        "  model = tf.keras.models.Sequential([\n",
        "      tf.keras.layers.Conv2D(16, (3, 3), activation='relu', input_shape=input_shape),\n",
        "      tf.keras.layers.MaxPooling2D(2, 2),\n",
        "      tf.keras.layers.Conv2D(32, (3, 3), activation='relu'),\n",
        "      tf.keras.layers.MaxPooling2D(2, 2),\n",
        "      tf.keras.layers.Conv2D(64, (3, 3), activation='relu'),\n",
        "      tf.keras.layers.MaxPooling2D(2, 2),\n",
        "      tf.keras.layers.Flatten(),\n",
        "      tf.keras.layers.Dense(dense_units, activation='relu'),\n",
        "      tf.keras.layers.Dense(2, activation='softmax')\n",
        "  ])\n",
        "  return model"
      ]
    },
    {
      "cell_type": "markdown",
      "metadata": {
        "id": "0ZKGkjagENSw"
      },
      "source": [
        "## [TensorBoard](https://keras.io/api/callbacks/tensorboard/)\n",
        "\n",
        "Enable visualizations for TensorBoard."
      ]
    },
    {
      "cell_type": "code",
      "execution_count": null,
      "metadata": {
        "id": "CeiD2WVEHbex"
      },
      "outputs": [],
      "source": [
        "!rm -rf logs"
      ]
    },
    {
      "cell_type": "code",
      "execution_count": null,
      "metadata": {
        "id": "PpLwPLnAEOzv",
        "outputId": "59ecdbde-66ff-41f8-c58e-f7060888df8c"
      },
      "outputs": [
        {
          "name": "stdout",
          "output_type": "stream",
          "text": [
            "Epoch 1/10\n",
            "26/26 [==============================] - 19s 749ms/step - loss: 0.6819 - accuracy: 0.5742 - val_loss: 0.6384 - val_accuracy: 0.7317\n",
            "Epoch 2/10\n",
            "26/26 [==============================] - 19s 715ms/step - loss: 0.6042 - accuracy: 0.6861 - val_loss: 0.7497 - val_accuracy: 0.5073\n",
            "Epoch 3/10\n",
            "26/26 [==============================] - 18s 700ms/step - loss: 0.5697 - accuracy: 0.7178 - val_loss: 0.5586 - val_accuracy: 0.7268\n",
            "Epoch 4/10\n",
            "26/26 [==============================] - 18s 704ms/step - loss: 0.5364 - accuracy: 0.7652 - val_loss: 0.4749 - val_accuracy: 0.8244\n",
            "Epoch 5/10\n",
            "26/26 [==============================] - 18s 696ms/step - loss: 0.4535 - accuracy: 0.8005 - val_loss: 0.4920 - val_accuracy: 0.7561\n",
            "Epoch 6/10\n",
            "26/26 [==============================] - 18s 700ms/step - loss: 0.3956 - accuracy: 0.8491 - val_loss: 0.4278 - val_accuracy: 0.8146\n",
            "Epoch 7/10\n",
            "26/26 [==============================] - 18s 704ms/step - loss: 0.3664 - accuracy: 0.8467 - val_loss: 0.3013 - val_accuracy: 0.8927\n",
            "Epoch 8/10\n",
            "26/26 [==============================] - 19s 712ms/step - loss: 0.3057 - accuracy: 0.8954 - val_loss: 0.2365 - val_accuracy: 0.9317\n",
            "Epoch 9/10\n",
            "26/26 [==============================] - 18s 711ms/step - loss: 0.2626 - accuracy: 0.9136 - val_loss: 0.1982 - val_accuracy: 0.9512\n",
            "Epoch 10/10\n",
            "26/26 [==============================] - 18s 708ms/step - loss: 0.2390 - accuracy: 0.9258 - val_loss: 0.1814 - val_accuracy: 0.9512\n"
          ]
        },
        {
          "data": {
            "text/plain": [
              "<tensorflow.python.keras.callbacks.History at 0x7ff6cd7e6510>"
            ]
          },
          "execution_count": 10,
          "metadata": {},
          "output_type": "execute_result"
        }
      ],
      "source": [
        "model = build_model(dense_units=256)\n",
        "model.compile(\n",
        "    optimizer='sgd',\n",
        "    loss='sparse_categorical_crossentropy', \n",
        "    metrics=['accuracy'])\n",
        "  \n",
        "logdir = os.path.join(\"logs\", datetime.datetime.now().strftime(\"%Y%m%d-%H%M%S\"))\n",
        "tensorboard_callback = tf.keras.callbacks.TensorBoard(logdir)\n",
        "\n",
        "model.fit(train_batches, \n",
        "          epochs=10, \n",
        "          validation_data=validation_batches, \n",
        "          callbacks=[tensorboard_callback])"
      ]
    },
    {
      "cell_type": "code",
      "execution_count": null,
      "metadata": {
        "id": "iJunWOjZE0ir",
        "outputId": "0d9a9946-26fa-4805-f0b7-f08735adf313"
      },
      "outputs": [
        {
          "data": {
            "text/html": [
              "\n",
              "      <iframe id=\"tensorboard-frame-8ddeb250c547a923\" width=\"100%\" height=\"800\" frameborder=\"0\">\n",
              "      </iframe>\n",
              "      <script>\n",
              "        (function() {\n",
              "          const frame = document.getElementById(\"tensorboard-frame-8ddeb250c547a923\");\n",
              "          const url = new URL(\"/\", window.location);\n",
              "          url.port = 6006;\n",
              "          frame.src = url;\n",
              "        })();\n",
              "      </script>\n",
              "  "
            ],
            "text/plain": [
              "<IPython.core.display.HTML object>"
            ]
          },
          "metadata": {},
          "output_type": "display_data"
        }
      ],
      "source": [
        "%tensorboard --logdir logs"
      ]
    },
    {
      "cell_type": "markdown",
      "metadata": {
        "id": "wv9H4Pc2Mfl7"
      },
      "source": [
        "## [Model Checkpoint](https://keras.io/api/callbacks/model_checkpoint/)\n",
        "\n",
        "Callback to save the Keras model or model weights at some frequency."
      ]
    },
    {
      "cell_type": "code",
      "execution_count": null,
      "metadata": {
        "id": "PYV4FJ8iMmDq",
        "outputId": "2c8faa5a-b3d2-4b77-d767-f73f58d0f3da"
      },
      "outputs": [
        {
          "name": "stdout",
          "output_type": "stream",
          "text": [
            "Epoch 1/5\n",
            "\n",
            "Epoch 00001: saving model to weights.01-0.64.h5\n",
            "26/26 - 19s - loss: 0.6734 - accuracy: 0.5815 - val_loss: 0.6354 - val_accuracy: 0.7805\n",
            "Epoch 2/5\n",
            "\n",
            "Epoch 00002: saving model to weights.02-0.57.h5\n",
            "26/26 - 18s - loss: 0.6084 - accuracy: 0.6922 - val_loss: 0.5706 - val_accuracy: 0.7366\n",
            "Epoch 3/5\n",
            "\n",
            "Epoch 00003: saving model to weights.03-0.61.h5\n",
            "26/26 - 19s - loss: 0.5640 - accuracy: 0.7190 - val_loss: 0.6063 - val_accuracy: 0.6098\n",
            "Epoch 4/5\n",
            "\n",
            "Epoch 00004: saving model to weights.04-0.43.h5\n",
            "26/26 - 19s - loss: 0.4910 - accuracy: 0.7944 - val_loss: 0.4349 - val_accuracy: 0.8683\n",
            "Epoch 5/5\n",
            "\n",
            "Epoch 00005: saving model to weights.05-0.41.h5\n",
            "26/26 - 19s - loss: 0.4868 - accuracy: 0.7859 - val_loss: 0.4112 - val_accuracy: 0.8927\n"
          ]
        },
        {
          "data": {
            "text/plain": [
              "<tensorflow.python.keras.callbacks.History at 0x7ff6cd6a6f10>"
            ]
          },
          "execution_count": 12,
          "metadata": {},
          "output_type": "execute_result"
        }
      ],
      "source": [
        "model = build_model(dense_units=256)\n",
        "model.compile(\n",
        "    optimizer='sgd',\n",
        "    loss='sparse_categorical_crossentropy', \n",
        "    metrics=['accuracy'])\n",
        "  \n",
        "model.fit(train_batches, \n",
        "          epochs=5, \n",
        "          validation_data=validation_batches, \n",
        "          verbose=2,\n",
        "          callbacks=[ModelCheckpoint('weights.{epoch:02d}-{val_loss:.2f}.h5', verbose=1),\n",
        "          ])"
      ]
    },
    {
      "cell_type": "code",
      "execution_count": null,
      "metadata": {
        "id": "oGvjQ8IlMmK6",
        "outputId": "1ebd5a6f-e210-44de-a284-bb208699df0b"
      },
      "outputs": [
        {
          "name": "stdout",
          "output_type": "stream",
          "text": [
            "\n",
            "Epoch 00001: saving model to saved_model\n",
            "WARNING:tensorflow:From /opt/conda/lib/python3.7/site-packages/tensorflow_core/python/ops/resource_variable_ops.py:1786: calling BaseResourceVariable.__init__ (from tensorflow.python.ops.resource_variable_ops) with constraint is deprecated and will be removed in a future version.\n",
            "Instructions for updating:\n",
            "If using Keras pass *_constraint arguments to layers.\n"
          ]
        },
        {
          "name": "stderr",
          "output_type": "stream",
          "text": [
            "WARNING:tensorflow:From /opt/conda/lib/python3.7/site-packages/tensorflow_core/python/ops/resource_variable_ops.py:1786: calling BaseResourceVariable.__init__ (from tensorflow.python.ops.resource_variable_ops) with constraint is deprecated and will be removed in a future version.\n",
            "Instructions for updating:\n",
            "If using Keras pass *_constraint arguments to layers.\n"
          ]
        },
        {
          "name": "stdout",
          "output_type": "stream",
          "text": [
            "INFO:tensorflow:Assets written to: saved_model/assets\n"
          ]
        },
        {
          "name": "stderr",
          "output_type": "stream",
          "text": [
            "INFO:tensorflow:Assets written to: saved_model/assets\n"
          ]
        },
        {
          "name": "stdout",
          "output_type": "stream",
          "text": [
            "26/26 - 19s - loss: 0.6774 - accuracy: 0.5900 - val_loss: 0.6617 - val_accuracy: 0.6634\n"
          ]
        },
        {
          "data": {
            "text/plain": [
              "<tensorflow.python.keras.callbacks.History at 0x7ff6cd565f10>"
            ]
          },
          "execution_count": 13,
          "metadata": {},
          "output_type": "execute_result"
        }
      ],
      "source": [
        "model = build_model(dense_units=256)\n",
        "model.compile(\n",
        "    optimizer='sgd',\n",
        "    loss='sparse_categorical_crossentropy', \n",
        "    metrics=['accuracy'])\n",
        "  \n",
        "model.fit(train_batches, \n",
        "          epochs=1, \n",
        "          validation_data=validation_batches, \n",
        "          verbose=2,\n",
        "          callbacks=[ModelCheckpoint('saved_model', verbose=1)\n",
        "          ])"
      ]
    },
    {
      "cell_type": "code",
      "execution_count": null,
      "metadata": {
        "id": "Y1ConwoB0EjD",
        "outputId": "07ab90cd-caa8-4e4c-8026-322eeb9c3691"
      },
      "outputs": [
        {
          "name": "stdout",
          "output_type": "stream",
          "text": [
            "Epoch 1/2\n",
            "\n",
            "Epoch 00001: saving model to model.h5\n",
            "26/26 - 19s - loss: 0.6704 - accuracy: 0.6119 - val_loss: 0.6713 - val_accuracy: 0.4585\n",
            "Epoch 2/2\n",
            "\n",
            "Epoch 00002: saving model to model.h5\n",
            "26/26 - 19s - loss: 0.6307 - accuracy: 0.6813 - val_loss: 0.5999 - val_accuracy: 0.7707\n"
          ]
        },
        {
          "data": {
            "text/plain": [
              "<tensorflow.python.keras.callbacks.History at 0x7ff6cd3c37d0>"
            ]
          },
          "execution_count": 14,
          "metadata": {},
          "output_type": "execute_result"
        }
      ],
      "source": [
        "model = build_model(dense_units=256)\n",
        "model.compile(\n",
        "    optimizer='sgd',\n",
        "    loss='sparse_categorical_crossentropy', \n",
        "    metrics=['accuracy'])\n",
        "  \n",
        "model.fit(train_batches, \n",
        "          epochs=2, \n",
        "          validation_data=validation_batches, \n",
        "          verbose=2,\n",
        "          callbacks=[ModelCheckpoint('model.h5', verbose=1)\n",
        "          ])"
      ]
    },
    {
      "cell_type": "markdown",
      "metadata": {
        "id": "kptNF0--Lznv"
      },
      "source": [
        "## [Early stopping](https://keras.io/api/callbacks/early_stopping/)\n",
        "\n",
        "Stop training when a monitored metric has stopped improving."
      ]
    },
    {
      "cell_type": "code",
      "execution_count": null,
      "metadata": {
        "id": "KJOJTJYdCkdY",
        "outputId": "2d7bf4d1-19de-4a80-805d-f4f24ec3685b"
      },
      "outputs": [
        {
          "name": "stdout",
          "output_type": "stream",
          "text": [
            "Epoch 1/50\n",
            "26/26 - 21s - loss: 0.6645 - accuracy: 0.5852 - val_loss: 0.6359 - val_accuracy: 0.7659\n",
            "Epoch 2/50\n",
            "26/26 - 19s - loss: 0.6247 - accuracy: 0.6302 - val_loss: 0.6047 - val_accuracy: 0.7512\n",
            "Epoch 3/50\n",
            "26/26 - 18s - loss: 0.5785 - accuracy: 0.7263 - val_loss: 0.5260 - val_accuracy: 0.8146\n",
            "Epoch 4/50\n",
            "26/26 - 18s - loss: 0.5156 - accuracy: 0.7835 - val_loss: 0.5211 - val_accuracy: 0.7756\n",
            "Epoch 5/50\n",
            "26/26 - 20s - loss: 0.4623 - accuracy: 0.7968 - val_loss: 0.3839 - val_accuracy: 0.8927\n",
            "Epoch 6/50\n",
            "26/26 - 18s - loss: 0.4361 - accuracy: 0.8333 - val_loss: 0.3267 - val_accuracy: 0.9024\n",
            "Epoch 7/50\n",
            "26/26 - 18s - loss: 0.3304 - accuracy: 0.8978 - val_loss: 0.3618 - val_accuracy: 0.8780\n",
            "Epoch 8/50\n",
            "26/26 - 19s - loss: 0.2689 - accuracy: 0.8942 - val_loss: 0.6732 - val_accuracy: 0.6293\n",
            "Epoch 9/50\n",
            "26/26 - 19s - loss: 0.2339 - accuracy: 0.9282 - val_loss: 0.1624 - val_accuracy: 0.9707\n",
            "Epoch 10/50\n",
            "26/26 - 19s - loss: 0.1562 - accuracy: 0.9708 - val_loss: 0.2092 - val_accuracy: 0.9268\n",
            "Epoch 11/50\n",
            "26/26 - 19s - loss: 0.1319 - accuracy: 0.9659 - val_loss: 0.1200 - val_accuracy: 0.9512\n",
            "Epoch 12/50\n",
            "26/26 - 19s - loss: 0.1309 - accuracy: 0.9574 - val_loss: 0.0973 - val_accuracy: 0.9854\n",
            "Epoch 13/50\n",
            "26/26 - 19s - loss: 0.0989 - accuracy: 0.9745 - val_loss: 0.0823 - val_accuracy: 0.9854\n",
            "Epoch 14/50\n",
            "26/26 - 20s - loss: 0.0788 - accuracy: 0.9854 - val_loss: 0.0922 - val_accuracy: 0.9659\n",
            "Epoch 15/50\n",
            "Restoring model weights from the end of the best epoch.\n",
            "26/26 - 19s - loss: 0.0674 - accuracy: 0.9842 - val_loss: 0.0849 - val_accuracy: 0.9805\n",
            "Epoch 00015: early stopping\n"
          ]
        },
        {
          "data": {
            "text/plain": [
              "<tensorflow.python.keras.callbacks.History at 0x7ff6cd1a6650>"
            ]
          },
          "execution_count": 15,
          "metadata": {},
          "output_type": "execute_result"
        }
      ],
      "source": [
        "model = build_model(dense_units=256)\n",
        "model.compile(\n",
        "    optimizer='sgd',\n",
        "    loss='sparse_categorical_crossentropy', \n",
        "    metrics=['accuracy'])\n",
        "  \n",
        "model.fit(train_batches, \n",
        "          epochs=50, \n",
        "          validation_data=validation_batches, \n",
        "          verbose=2,\n",
        "          callbacks=[EarlyStopping(\n",
        "              patience=3,\n",
        "              min_delta=0.05,\n",
        "              baseline=0.8,\n",
        "              mode='min',\n",
        "              monitor='val_loss',\n",
        "              restore_best_weights=True,\n",
        "              verbose=1)\n",
        "          ])"
      ]
    },
    {
      "cell_type": "markdown",
      "metadata": {
        "id": "8mDzWUD4Pqq5"
      },
      "source": [
        "## [CSV Logger](https://keras.io/api/callbacks/csv_logger/)\n",
        "\n",
        "Callback that streams epoch results to a CSV file."
      ]
    },
    {
      "cell_type": "code",
      "execution_count": null,
      "metadata": {
        "id": "cffnMpmGPtMh",
        "outputId": "46cf1710-c614-4ce3-9226-aad6bfc73b1e"
      },
      "outputs": [
        {
          "name": "stdout",
          "output_type": "stream",
          "text": [
            "Epoch 1/5\n",
            "26/26 [==============================] - 19s 737ms/step - loss: 0.6775 - accuracy: 0.5706 - val_loss: 0.6691 - val_accuracy: 0.4927\n",
            "Epoch 2/5\n",
            "26/26 [==============================] - 19s 732ms/step - loss: 0.6189 - accuracy: 0.6618 - val_loss: 0.5838 - val_accuracy: 0.7951\n",
            "Epoch 3/5\n",
            "26/26 [==============================] - 19s 719ms/step - loss: 0.5693 - accuracy: 0.7384 - val_loss: 0.7790 - val_accuracy: 0.4878\n",
            "Epoch 4/5\n",
            "26/26 [==============================] - 19s 712ms/step - loss: 0.5098 - accuracy: 0.7713 - val_loss: 0.5045 - val_accuracy: 0.7463\n",
            "Epoch 5/5\n",
            "26/26 [==============================] - 18s 708ms/step - loss: 0.4916 - accuracy: 0.7908 - val_loss: 0.4098 - val_accuracy: 0.9268\n"
          ]
        },
        {
          "data": {
            "text/plain": [
              "<tensorflow.python.keras.callbacks.History at 0x7ff6cd10ec10>"
            ]
          },
          "execution_count": 16,
          "metadata": {},
          "output_type": "execute_result"
        }
      ],
      "source": [
        "model = build_model(dense_units=256)\n",
        "model.compile(\n",
        "    optimizer='sgd',\n",
        "    loss='sparse_categorical_crossentropy', \n",
        "    metrics=['accuracy'])\n",
        "  \n",
        "csv_file = 'training.csv'\n",
        "\n",
        "model.fit(train_batches, \n",
        "          epochs=5, \n",
        "          validation_data=validation_batches, \n",
        "          callbacks=[CSVLogger(csv_file)\n",
        "          ])"
      ]
    },
    {
      "cell_type": "code",
      "execution_count": null,
      "metadata": {
        "id": "B9tkYi03QV7R",
        "outputId": "8b315fc2-3790-4787-b100-77e5d361b96b"
      },
      "outputs": [
        {
          "data": {
            "text/html": [
              "<div>\n",
              "<style scoped>\n",
              "    .dataframe tbody tr th:only-of-type {\n",
              "        vertical-align: middle;\n",
              "    }\n",
              "\n",
              "    .dataframe tbody tr th {\n",
              "        vertical-align: top;\n",
              "    }\n",
              "\n",
              "    .dataframe thead th {\n",
              "        text-align: right;\n",
              "    }\n",
              "</style>\n",
              "<table border=\"1\" class=\"dataframe\">\n",
              "  <thead>\n",
              "    <tr style=\"text-align: right;\">\n",
              "      <th></th>\n",
              "      <th>epoch</th>\n",
              "      <th>accuracy</th>\n",
              "      <th>loss</th>\n",
              "      <th>val_accuracy</th>\n",
              "      <th>val_loss</th>\n",
              "    </tr>\n",
              "  </thead>\n",
              "  <tbody>\n",
              "    <tr>\n",
              "      <th>0</th>\n",
              "      <td>0</td>\n",
              "      <td>0.570560</td>\n",
              "      <td>0.678008</td>\n",
              "      <td>0.492683</td>\n",
              "      <td>0.669134</td>\n",
              "    </tr>\n",
              "    <tr>\n",
              "      <th>1</th>\n",
              "      <td>1</td>\n",
              "      <td>0.661801</td>\n",
              "      <td>0.619011</td>\n",
              "      <td>0.795122</td>\n",
              "      <td>0.583790</td>\n",
              "    </tr>\n",
              "    <tr>\n",
              "      <th>2</th>\n",
              "      <td>2</td>\n",
              "      <td>0.738443</td>\n",
              "      <td>0.570522</td>\n",
              "      <td>0.487805</td>\n",
              "      <td>0.779035</td>\n",
              "    </tr>\n",
              "    <tr>\n",
              "      <th>3</th>\n",
              "      <td>3</td>\n",
              "      <td>0.771290</td>\n",
              "      <td>0.510143</td>\n",
              "      <td>0.746341</td>\n",
              "      <td>0.504480</td>\n",
              "    </tr>\n",
              "    <tr>\n",
              "      <th>4</th>\n",
              "      <td>4</td>\n",
              "      <td>0.790754</td>\n",
              "      <td>0.492236</td>\n",
              "      <td>0.926829</td>\n",
              "      <td>0.409797</td>\n",
              "    </tr>\n",
              "  </tbody>\n",
              "</table>\n",
              "</div>"
            ],
            "text/plain": [
              "   epoch  accuracy      loss  val_accuracy  val_loss\n",
              "0      0  0.570560  0.678008      0.492683  0.669134\n",
              "1      1  0.661801  0.619011      0.795122  0.583790\n",
              "2      2  0.738443  0.570522      0.487805  0.779035\n",
              "3      3  0.771290  0.510143      0.746341  0.504480\n",
              "4      4  0.790754  0.492236      0.926829  0.409797"
            ]
          },
          "execution_count": 17,
          "metadata": {},
          "output_type": "execute_result"
        }
      ],
      "source": [
        "pd.read_csv(csv_file).head()"
      ]
    },
    {
      "cell_type": "markdown",
      "metadata": {
        "id": "Dt9C2Y9fRBKN"
      },
      "source": [
        "## [Learning Rate Scheduler](https://keras.io/api/callbacks/learning_rate_scheduler/)\n",
        "\n",
        "Updates the learning rate during training."
      ]
    },
    {
      "cell_type": "code",
      "execution_count": null,
      "metadata": {
        "id": "aJi-xY2VRC03",
        "outputId": "3148a848-b572-42fa-f22f-ffac24452ea0"
      },
      "outputs": [
        {
          "name": "stdout",
          "output_type": "stream",
          "text": [
            "\n",
            "Epoch 00001: LearningRateScheduler reducing learning rate to 0.005.\n",
            "Epoch 1/5\n",
            "26/26 [==============================] - 19s 745ms/step - loss: 0.6760 - accuracy: 0.5742 - val_loss: 0.6572 - val_accuracy: 0.7171\n",
            "\n",
            "Epoch 00002: LearningRateScheduler reducing learning rate to 0.0025.\n",
            "Epoch 2/5\n",
            "26/26 [==============================] - 41s 2s/step - loss: 0.6357 - accuracy: 0.6825 - val_loss: 0.6449 - val_accuracy: 0.6293\n",
            "\n",
            "Epoch 00003: LearningRateScheduler reducing learning rate to 0.00125.\n",
            "Epoch 3/5\n",
            "26/26 [==============================] - 28s 1s/step - loss: 0.6175 - accuracy: 0.7372 - val_loss: 0.6248 - val_accuracy: 0.7902\n",
            "\n",
            "Epoch 00004: LearningRateScheduler reducing learning rate to 0.000625.\n",
            "Epoch 4/5\n",
            "26/26 [==============================] - 28s 1s/step - loss: 0.6071 - accuracy: 0.7652 - val_loss: 0.6253 - val_accuracy: 0.7171\n",
            "\n",
            "Epoch 00005: LearningRateScheduler reducing learning rate to 0.0003125.\n",
            "Epoch 5/5\n",
            "26/26 [==============================] - 28s 1s/step - loss: 0.6012 - accuracy: 0.7567 - val_loss: 0.6217 - val_accuracy: 0.7366\n"
          ]
        },
        {
          "data": {
            "text/plain": [
              "<tensorflow.python.keras.callbacks.History at 0x7ff6ccf3f690>"
            ]
          },
          "execution_count": 18,
          "metadata": {},
          "output_type": "execute_result"
        }
      ],
      "source": [
        "model = build_model(dense_units=256)\n",
        "model.compile(\n",
        "    optimizer='sgd',\n",
        "    loss='sparse_categorical_crossentropy', \n",
        "    metrics=['accuracy'])\n",
        "  \n",
        "def step_decay(epoch):\n",
        "\tinitial_lr = 0.01\n",
        "\tdrop = 0.5\n",
        "\tepochs_drop = 1\n",
        "\tlr = initial_lr * math.pow(drop, math.floor((1+epoch)/epochs_drop))\n",
        "\treturn lr\n",
        "\n",
        "model.fit(train_batches, \n",
        "          epochs=5, \n",
        "          validation_data=validation_batches, \n",
        "          callbacks=[LearningRateScheduler(step_decay, verbose=1),\n",
        "                    TensorBoard(log_dir='./log_dir')])"
      ]
    },
    {
      "cell_type": "code",
      "execution_count": null,
      "metadata": {
        "id": "M2S4n8nrbV91",
        "outputId": "0d5d67b6-4fc1-47ec-d254-38a3b04c5cf1"
      },
      "outputs": [
        {
          "data": {
            "text/html": [
              "\n",
              "      <iframe id=\"tensorboard-frame-848d1c5601fcddae\" width=\"100%\" height=\"800\" frameborder=\"0\">\n",
              "      </iframe>\n",
              "      <script>\n",
              "        (function() {\n",
              "          const frame = document.getElementById(\"tensorboard-frame-848d1c5601fcddae\");\n",
              "          const url = new URL(\"/\", window.location);\n",
              "          url.port = 6007;\n",
              "          frame.src = url;\n",
              "        })();\n",
              "      </script>\n",
              "  "
            ],
            "text/plain": [
              "<IPython.core.display.HTML object>"
            ]
          },
          "metadata": {},
          "output_type": "display_data"
        }
      ],
      "source": [
        "%tensorboard --logdir log_dir"
      ]
    },
    {
      "cell_type": "markdown",
      "metadata": {
        "id": "y0wcuQyJE_UK"
      },
      "source": [
        "## [ReduceLROnPlateau](https://keras.io/api/callbacks/reduce_lr_on_plateau/)\n",
        "\n",
        "Reduce learning rate when a metric has stopped improving."
      ]
    },
    {
      "cell_type": "code",
      "execution_count": null,
      "metadata": {
        "id": "4naxZ-eCFB27",
        "outputId": "2651dcfa-dc66-4974-f248-ce5f7255927b"
      },
      "outputs": [
        {
          "name": "stdout",
          "output_type": "stream",
          "text": [
            "Epoch 1/50\n",
            "26/26 [==============================] - 33s 1s/step - loss: 0.6752 - accuracy: 0.5742 - val_loss: 0.7116 - val_accuracy: 0.4585\n",
            "Epoch 2/50\n",
            "26/26 [==============================] - 21s 799ms/step - loss: 0.6268 - accuracy: 0.6350 - val_loss: 0.6969 - val_accuracy: 0.4976\n",
            "Epoch 3/50\n",
            "26/26 [==============================] - 21s 812ms/step - loss: 0.5893 - accuracy: 0.7129 - val_loss: 0.5591 - val_accuracy: 0.7951\n",
            "Epoch 4/50\n",
            "26/26 [==============================] - 20s 780ms/step - loss: 0.5464 - accuracy: 0.7543 - val_loss: 0.5005 - val_accuracy: 0.7805\n",
            "Epoch 5/50\n",
            "26/26 [==============================] - 21s 796ms/step - loss: 0.5134 - accuracy: 0.7737 - val_loss: 0.4374 - val_accuracy: 0.8927\n",
            "Epoch 6/50\n",
            "26/26 [==============================] - 21s 796ms/step - loss: 0.4316 - accuracy: 0.8443 - val_loss: 0.3710 - val_accuracy: 0.9024\n",
            "Epoch 7/50\n",
            "26/26 [==============================] - 23s 881ms/step - loss: 0.4037 - accuracy: 0.8467 - val_loss: 0.3415 - val_accuracy: 0.8976\n",
            "Epoch 8/50\n",
            "26/26 [==============================] - 21s 792ms/step - loss: 0.3041 - accuracy: 0.9100 - val_loss: 0.3250 - val_accuracy: 0.8732\n",
            "Epoch 9/50\n",
            "26/26 [==============================] - 20s 777ms/step - loss: 0.2454 - accuracy: 0.9270 - val_loss: 0.2252 - val_accuracy: 0.9024\n",
            "Epoch 10/50\n",
            "26/26 [==============================] - 19s 712ms/step - loss: 0.1971 - accuracy: 0.9440 - val_loss: 0.1354 - val_accuracy: 0.9707\n",
            "Epoch 11/50\n",
            "26/26 [==============================] - 19s 717ms/step - loss: 0.1654 - accuracy: 0.9501 - val_loss: 0.1197 - val_accuracy: 0.9707\n",
            "Epoch 12/50\n",
            "26/26 [==============================] - 19s 712ms/step - loss: 0.1217 - accuracy: 0.9708 - val_loss: 0.0908 - val_accuracy: 0.9805\n",
            "Epoch 13/50\n",
            "26/26 [==============================] - 19s 746ms/step - loss: 0.0995 - accuracy: 0.9793 - val_loss: 0.0813 - val_accuracy: 0.9805\n",
            "Epoch 14/50\n",
            "25/26 [===========================>..] - ETA: 0s - loss: 0.0857 - accuracy: 0.9750\n",
            "Epoch 00014: ReduceLROnPlateau reducing learning rate to 0.0019999999552965165.\n",
            "26/26 [==============================] - 19s 730ms/step - loss: 0.0865 - accuracy: 0.9732 - val_loss: 0.0824 - val_accuracy: 0.9707\n",
            "Epoch 15/50\n",
            "26/26 [==============================] - 19s 716ms/step - loss: 0.0688 - accuracy: 0.9854 - val_loss: 0.0746 - val_accuracy: 0.9756\n",
            "Epoch 16/50\n",
            "26/26 [==============================] - 19s 735ms/step - loss: 0.0640 - accuracy: 0.9854 - val_loss: 0.0681 - val_accuracy: 0.9854\n",
            "Epoch 17/50\n",
            "25/26 [===========================>..] - ETA: 0s - loss: 0.0615 - accuracy: 0.9900\n",
            "Epoch 00017: ReduceLROnPlateau reducing learning rate to 0.001.\n",
            "26/26 [==============================] - 19s 715ms/step - loss: 0.0617 - accuracy: 0.9891 - val_loss: 0.0690 - val_accuracy: 0.9854\n",
            "Epoch 18/50\n",
            "26/26 [==============================] - 19s 719ms/step - loss: 0.0599 - accuracy: 0.9866 - val_loss: 0.0673 - val_accuracy: 0.9854\n",
            "Epoch 19/50\n",
            "25/26 [===========================>..] - ETA: 0s - loss: 0.0593 - accuracy: 0.9862\n",
            "Epoch 00019: ReduceLROnPlateau reducing learning rate to 0.001.\n",
            "26/26 [==============================] - 19s 716ms/step - loss: 0.0589 - accuracy: 0.9866 - val_loss: 0.0677 - val_accuracy: 0.9854\n",
            "Epoch 20/50\n",
            "26/26 [==============================] - 18s 700ms/step - loss: 0.0580 - accuracy: 0.9866 - val_loss: 0.0651 - val_accuracy: 0.9854\n",
            "Epoch 21/50\n",
            "26/26 [==============================] - 18s 700ms/step - loss: 0.0569 - accuracy: 0.9866 - val_loss: 0.0646 - val_accuracy: 0.9854\n",
            "Epoch 22/50\n",
            "26/26 [==============================] - 19s 746ms/step - loss: 0.0559 - accuracy: 0.9878 - val_loss: 0.0643 - val_accuracy: 0.9854\n",
            "Epoch 23/50\n",
            "26/26 [==============================] - 19s 729ms/step - loss: 0.0551 - accuracy: 0.9866 - val_loss: 0.0638 - val_accuracy: 0.9854\n",
            "Epoch 24/50\n",
            "26/26 [==============================] - 19s 720ms/step - loss: 0.0538 - accuracy: 0.9878 - val_loss: 0.0628 - val_accuracy: 0.9854\n",
            "Epoch 25/50\n",
            "26/26 [==============================] - 18s 703ms/step - loss: 0.0530 - accuracy: 0.9878 - val_loss: 0.0612 - val_accuracy: 0.9854\n",
            "Epoch 26/50\n",
            "26/26 [==============================] - 19s 716ms/step - loss: 0.0526 - accuracy: 0.9878 - val_loss: 0.0600 - val_accuracy: 0.9854\n",
            "Epoch 27/50\n",
            "25/26 [===========================>..] - ETA: 0s - loss: 0.0517 - accuracy: 0.9875\n",
            "Epoch 00027: ReduceLROnPlateau reducing learning rate to 0.001.\n",
            "26/26 [==============================] - 18s 706ms/step - loss: 0.0510 - accuracy: 0.9878 - val_loss: 0.0622 - val_accuracy: 0.9854\n",
            "Epoch 28/50\n",
            "25/26 [===========================>..] - ETA: 0s - loss: 0.0511 - accuracy: 0.9862\n",
            "Epoch 00028: ReduceLROnPlateau reducing learning rate to 0.001.\n",
            "26/26 [==============================] - 18s 701ms/step - loss: 0.0501 - accuracy: 0.9866 - val_loss: 0.0620 - val_accuracy: 0.9805\n",
            "Epoch 29/50\n",
            "25/26 [===========================>..] - ETA: 0s - loss: 0.0505 - accuracy: 0.9875\n",
            "Epoch 00029: ReduceLROnPlateau reducing learning rate to 0.001.\n",
            "26/26 [==============================] - 19s 734ms/step - loss: 0.0496 - accuracy: 0.9878 - val_loss: 0.0609 - val_accuracy: 0.9805\n",
            "Epoch 30/50\n",
            "26/26 [==============================] - 19s 724ms/step - loss: 0.0489 - accuracy: 0.9866 - val_loss: 0.0598 - val_accuracy: 0.9854\n",
            "Epoch 31/50\n",
            "26/26 [==============================] - 19s 727ms/step - loss: 0.0481 - accuracy: 0.9891 - val_loss: 0.0590 - val_accuracy: 0.9854\n",
            "Epoch 32/50\n",
            "25/26 [===========================>..] - ETA: 0s - loss: 0.0462 - accuracy: 0.9887\n",
            "Epoch 00032: ReduceLROnPlateau reducing learning rate to 0.001.\n",
            "26/26 [==============================] - 19s 731ms/step - loss: 0.0480 - accuracy: 0.9878 - val_loss: 0.0599 - val_accuracy: 0.9756\n",
            "Epoch 33/50\n",
            "26/26 [==============================] - 19s 727ms/step - loss: 0.0468 - accuracy: 0.9891 - val_loss: 0.0579 - val_accuracy: 0.9854\n",
            "Epoch 34/50\n",
            "26/26 [==============================] - 19s 745ms/step - loss: 0.0457 - accuracy: 0.9866 - val_loss: 0.0564 - val_accuracy: 0.9854\n",
            "Epoch 35/50\n",
            "25/26 [===========================>..] - ETA: 0s - loss: 0.0455 - accuracy: 0.9900\n",
            "Epoch 00035: ReduceLROnPlateau reducing learning rate to 0.001.\n",
            "26/26 [==============================] - 18s 690ms/step - loss: 0.0451 - accuracy: 0.9903 - val_loss: 0.0569 - val_accuracy: 0.9854\n",
            "Epoch 36/50\n",
            "26/26 [==============================] - 19s 719ms/step - loss: 0.0442 - accuracy: 0.9891 - val_loss: 0.0549 - val_accuracy: 0.9854\n",
            "Epoch 37/50\n",
            "26/26 [==============================] - 19s 717ms/step - loss: 0.0438 - accuracy: 0.9903 - val_loss: 0.0545 - val_accuracy: 0.9854\n",
            "Epoch 38/50\n",
            "25/26 [===========================>..] - ETA: 0s - loss: 0.0424 - accuracy: 0.9912\n",
            "Epoch 00038: ReduceLROnPlateau reducing learning rate to 0.001.\n",
            "26/26 [==============================] - 19s 714ms/step - loss: 0.0429 - accuracy: 0.9915 - val_loss: 0.0568 - val_accuracy: 0.9805\n",
            "Epoch 39/50\n",
            "25/26 [===========================>..] - ETA: 0s - loss: 0.0429 - accuracy: 0.9887\n",
            "Epoch 00039: ReduceLROnPlateau reducing learning rate to 0.001.\n",
            "26/26 [==============================] - 18s 703ms/step - loss: 0.0424 - accuracy: 0.9891 - val_loss: 0.0551 - val_accuracy: 0.9854\n",
            "Epoch 40/50\n",
            "25/26 [===========================>..] - ETA: 0s - loss: 0.0425 - accuracy: 0.9912\n",
            "Epoch 00040: ReduceLROnPlateau reducing learning rate to 0.001.\n",
            "26/26 [==============================] - 19s 712ms/step - loss: 0.0417 - accuracy: 0.9915 - val_loss: 0.0555 - val_accuracy: 0.9854\n",
            "Epoch 41/50\n",
            "25/26 [===========================>..] - ETA: 0s - loss: 0.0418 - accuracy: 0.9912\n",
            "Epoch 00041: ReduceLROnPlateau reducing learning rate to 0.001.\n",
            "26/26 [==============================] - 18s 700ms/step - loss: 0.0408 - accuracy: 0.9915 - val_loss: 0.0545 - val_accuracy: 0.9854\n",
            "Epoch 42/50\n",
            "25/26 [===========================>..] - ETA: 0s - loss: 0.0404 - accuracy: 0.9925\n",
            "Epoch 00042: ReduceLROnPlateau reducing learning rate to 0.001.\n",
            "26/26 [==============================] - 19s 739ms/step - loss: 0.0403 - accuracy: 0.9927 - val_loss: 0.0544 - val_accuracy: 0.9805\n",
            "Epoch 43/50\n",
            "25/26 [===========================>..] - ETA: 0s - loss: 0.0395 - accuracy: 0.9912\n",
            "Epoch 00043: ReduceLROnPlateau reducing learning rate to 0.001.\n",
            "26/26 [==============================] - 19s 730ms/step - loss: 0.0402 - accuracy: 0.9915 - val_loss: 0.0546 - val_accuracy: 0.9805\n",
            "Epoch 44/50\n",
            "26/26 [==============================] - 19s 712ms/step - loss: 0.0395 - accuracy: 0.9915 - val_loss: 0.0531 - val_accuracy: 0.9854\n",
            "Epoch 45/50\n",
            "25/26 [===========================>..] - ETA: 0s - loss: 0.0379 - accuracy: 0.9937\n",
            "Epoch 00045: ReduceLROnPlateau reducing learning rate to 0.001.\n",
            "26/26 [==============================] - 18s 711ms/step - loss: 0.0389 - accuracy: 0.9939 - val_loss: 0.0546 - val_accuracy: 0.9805\n",
            "Epoch 46/50\n",
            "26/26 [==============================] - 18s 700ms/step - loss: 0.0381 - accuracy: 0.9939 - val_loss: 0.0523 - val_accuracy: 0.9854\n",
            "Epoch 47/50\n",
            "26/26 [==============================] - 19s 723ms/step - loss: 0.0378 - accuracy: 0.9915 - val_loss: 0.0519 - val_accuracy: 0.9854\n",
            "Epoch 48/50\n",
            "25/26 [===========================>..] - ETA: 0s - loss: 0.0379 - accuracy: 0.9925\n",
            "Epoch 00048: ReduceLROnPlateau reducing learning rate to 0.001.\n",
            "26/26 [==============================] - 19s 712ms/step - loss: 0.0368 - accuracy: 0.9927 - val_loss: 0.0518 - val_accuracy: 0.9854\n",
            "Epoch 49/50\n",
            "25/26 [===========================>..] - ETA: 0s - loss: 0.0367 - accuracy: 0.9925\n",
            "Epoch 00049: ReduceLROnPlateau reducing learning rate to 0.001.\n",
            "26/26 [==============================] - 19s 742ms/step - loss: 0.0364 - accuracy: 0.9927 - val_loss: 0.0529 - val_accuracy: 0.9805\n",
            "Epoch 50/50\n",
            "26/26 [==============================] - 19s 730ms/step - loss: 0.0356 - accuracy: 0.9939 - val_loss: 0.0512 - val_accuracy: 0.9805\n"
          ]
        },
        {
          "data": {
            "text/plain": [
              "<tensorflow.python.keras.callbacks.History at 0x7ff6cd271090>"
            ]
          },
          "execution_count": 20,
          "metadata": {},
          "output_type": "execute_result"
        }
      ],
      "source": [
        "model = build_model(dense_units=256)\n",
        "model.compile(\n",
        "    optimizer='sgd',\n",
        "    loss='sparse_categorical_crossentropy', \n",
        "    metrics=['accuracy'])\n",
        "  \n",
        "model.fit(train_batches, \n",
        "          epochs=50, \n",
        "          validation_data=validation_batches, \n",
        "          callbacks=[ReduceLROnPlateau(monitor='val_loss', \n",
        "                                       factor=0.2, verbose=1,\n",
        "                                       patience=1, min_lr=0.001),\n",
        "                     TensorBoard(log_dir='./log_dir')])"
      ]
    },
    {
      "cell_type": "code",
      "execution_count": null,
      "metadata": {
        "id": "isfTWP4NYudk",
        "outputId": "0a99da58-33fe-4838-a11e-4697669a0dbf"
      },
      "outputs": [
        {
          "data": {
            "text/plain": [
              "Reusing TensorBoard on port 6007 (pid 4488), started 0:16:09 ago. (Use '!kill 4488' to kill it.)"
            ]
          },
          "metadata": {},
          "output_type": "display_data"
        },
        {
          "data": {
            "text/html": [
              "\n",
              "      <iframe id=\"tensorboard-frame-8d9edabf9a7ad5db\" width=\"100%\" height=\"800\" frameborder=\"0\">\n",
              "      </iframe>\n",
              "      <script>\n",
              "        (function() {\n",
              "          const frame = document.getElementById(\"tensorboard-frame-8d9edabf9a7ad5db\");\n",
              "          const url = new URL(\"/\", window.location);\n",
              "          url.port = 6007;\n",
              "          frame.src = url;\n",
              "        })();\n",
              "      </script>\n",
              "  "
            ],
            "text/plain": [
              "<IPython.core.display.HTML object>"
            ]
          },
          "metadata": {},
          "output_type": "display_data"
        }
      ],
      "source": [
        "%tensorboard --logdir log_dir"
      ]
    },
    {
      "cell_type": "code",
      "execution_count": null,
      "metadata": {
        "id": "eqJUaHU3O9ju"
      },
      "outputs": [],
      "source": [
        ""
      ]
    }
  ],
  "metadata": {
    "colab": {
      "collapsed_sections": [],
      "name": "C1_W5_Lab_1_exploring-callbacks.ipynb",
      "provenance": [],
      "include_colab_link": true
    },
    "kernelspec": {
      "display_name": "Python 3",
      "language": "python",
      "name": "python3"
    },
    "language_info": {
      "codemirror_mode": {
        "name": "ipython",
        "version": 3
      },
      "file_extension": ".py",
      "mimetype": "text/x-python",
      "name": "python",
      "nbconvert_exporter": "python",
      "pygments_lexer": "ipython3",
      "version": "3.7.6"
    }
  },
  "nbformat": 4,
  "nbformat_minor": 0
}